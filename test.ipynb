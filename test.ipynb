{
 "cells": [
  {
   "cell_type": "code",
   "execution_count": 1,
   "metadata": {},
   "outputs": [
    {
     "name": "stdout",
     "output_type": "stream",
     "text": [
      "Num GPUs Available:  2\n"
     ]
    }
   ],
   "source": [
    "import tensorflow as tf\n",
    "from tensorflow import keras\n",
    "from tensorflow.keras import layers\n",
    "from tensorflow.keras.models import Model\n",
    "import cv2\n",
    "import numpy as np\n",
    "from ROIPoolingLayer import RoiPoolingConv\n",
    "from tensorflow.compat.v1 import ConfigProto\n",
    "from tensorflow.compat.v1 import InteractiveSession\n",
    "\n",
    "\n",
    "def make_RPN(anchors_num=9):\n",
    "    feature_map_title = layers.Input(shape=(None, None, 2048))\n",
    "\n",
    "    k = anchors_num\n",
    "    x = layers.Conv2D(512, kernel_size=(3, 3))(feature_map_title)\n",
    "    reg = layers.Conv2D(4*k, kernel_size=(1, 1), activation='sigmoid')(x)\n",
    "    scores = layers.Conv2D(1*k, kernel_size=(1, 1))(x)\n",
    "\n",
    "    model = Model(inputs=[feature_map_title], outputs=[scores, reg])\n",
    "\n",
    "    # model.summary()\n",
    "    return model\n",
    "\n",
    "print(\"Num GPUs Available: \", len(tf.config.experimental.list_physical_devices('GPU')))\n",
    "config = ConfigProto()\n",
    "config.gpu_options.allow_growth = True\n",
    "session = InteractiveSession(config=config)"
   ]
  },
  {
   "cell_type": "code",
   "execution_count": 2,
   "metadata": {},
   "outputs": [],
   "source": [
    "img = cv2.imread('test.jpg')\n",
    "h, w, _ = img.shape"
   ]
  },
  {
   "cell_type": "code",
   "execution_count": 3,
   "metadata": {},
   "outputs": [
    {
     "name": "stdout",
     "output_type": "stream",
     "text": [
      "720 1280\n"
     ]
    }
   ],
   "source": [
    "print(h,w)"
   ]
  },
  {
   "cell_type": "code",
   "execution_count": 4,
   "metadata": {},
   "outputs": [],
   "source": [
    "img = cv2.resize(img, (224, 224))\n",
    "img = np.expand_dims(img, 0)"
   ]
  },
  {
   "cell_type": "code",
   "execution_count": 5,
   "metadata": {},
   "outputs": [
    {
     "name": "stdout",
     "output_type": "stream",
     "text": [
      "(1, 224, 224, 3)\n"
     ]
    }
   ],
   "source": [
    "print(img.shape)"
   ]
  },
  {
   "cell_type": "code",
   "execution_count": 6,
   "metadata": {},
   "outputs": [
    {
     "name": "stdout",
     "output_type": "stream",
     "text": [
      "(1, 7, 7, 2048)\n"
     ]
    }
   ],
   "source": [
    "# strategy = tf.distribute.MirroredStrategy()\n",
    "# with strategy.scope():\n",
    "# with tf.device('/device:GPU:0'):\n",
    "model_rpn = make_RPN()\n",
    "resnet = tf.keras.applications.ResNet50(include_top=False)\n",
    "feature_map = resnet.predict(img)\n",
    "\n",
    "print(feature_map.shape)"
   ]
  },
  {
   "cell_type": "code",
   "execution_count": 7,
   "metadata": {},
   "outputs": [],
   "source": [
    "score, reg = model_rpn(feature_map)"
   ]
  },
  {
   "cell_type": "code",
   "execution_count": 8,
   "metadata": {},
   "outputs": [
    {
     "name": "stdout",
     "output_type": "stream",
     "text": [
      "(1, 5, 5, 9)\n",
      "(1, 5, 5, 36)\n"
     ]
    }
   ],
   "source": [
    "print(score.shape)\n",
    "print(reg.shape)"
   ]
  },
  {
   "cell_type": "code",
   "execution_count": 9,
   "metadata": {},
   "outputs": [
    {
     "name": "stdout",
     "output_type": "stream",
     "text": [
      "(1, 5, 5, 36)\n"
     ]
    }
   ],
   "source": [
    "print(reg.shape)"
   ]
  },
  {
   "cell_type": "code",
   "execution_count": 10,
   "metadata": {},
   "outputs": [],
   "source": [
    "import models"
   ]
  },
  {
   "cell_type": "code",
   "execution_count": 11,
   "metadata": {},
   "outputs": [
    {
     "name": "stdout",
     "output_type": "stream",
     "text": [
      "channels_last\n"
     ]
    },
    {
     "ename": "TypeError",
     "evalue": "'NoneType' object is not subscriptable",
     "output_type": "error",
     "traceback": [
      "\u001b[0;31m---------------------------------------------------------------------------\u001b[0m",
      "\u001b[0;31mTypeError\u001b[0m                                 Traceback (most recent call last)",
      "\u001b[0;32m<ipython-input-11-d21cb5855991>\u001b[0m in \u001b[0;36m<module>\u001b[0;34m\u001b[0m\n\u001b[1;32m      1\u001b[0m \u001b[0mroi_input\u001b[0m \u001b[0;34m=\u001b[0m \u001b[0mlayers\u001b[0m\u001b[0;34m.\u001b[0m\u001b[0mInput\u001b[0m\u001b[0;34m(\u001b[0m\u001b[0mshape\u001b[0m\u001b[0;34m=\u001b[0m\u001b[0;34m(\u001b[0m\u001b[0;32mNone\u001b[0m\u001b[0;34m,\u001b[0m \u001b[0;36m4\u001b[0m\u001b[0;34m)\u001b[0m\u001b[0;34m)\u001b[0m\u001b[0;34m\u001b[0m\u001b[0;34m\u001b[0m\u001b[0m\n\u001b[0;32m----> 2\u001b[0;31m \u001b[0mclassifier\u001b[0m \u001b[0;34m=\u001b[0m \u001b[0mmodels\u001b[0m\u001b[0;34m.\u001b[0m\u001b[0mclassifier\u001b[0m\u001b[0;34m(\u001b[0m\u001b[0mresnet\u001b[0m\u001b[0;34m,\u001b[0m\u001b[0mroi_input\u001b[0m\u001b[0;34m,\u001b[0m\u001b[0;36m32\u001b[0m\u001b[0;34m,\u001b[0m\u001b[0mtrainable\u001b[0m\u001b[0;34m=\u001b[0m\u001b[0;32mTrue\u001b[0m\u001b[0;34m)\u001b[0m\u001b[0;34m\u001b[0m\u001b[0;34m\u001b[0m\u001b[0m\n\u001b[0m",
      "\u001b[0;32m~/study/tf/fastrcnn_keras/models.py\u001b[0m in \u001b[0;36mclassifier\u001b[0;34m(base_layers, input_rois, num_rois, nb_classes, trainable)\u001b[0m\n\u001b[1;32m     27\u001b[0m     \u001b[0;31m# from vgg version..\u001b[0m\u001b[0;34m\u001b[0m\u001b[0;34m\u001b[0m\u001b[0;34m\u001b[0m\u001b[0m\n\u001b[1;32m     28\u001b[0m     out_roi_pool = RoiPoolingConv(pooling_regions, num_rois)([\n\u001b[0;32m---> 29\u001b[0;31m         base_layers, input_rois])\n\u001b[0m\u001b[1;32m     30\u001b[0m \u001b[0;34m\u001b[0m\u001b[0m\n\u001b[1;32m     31\u001b[0m     out_roi_pool = TimeDistributed(AveragePooling2D(\n",
      "\u001b[0;32m~/anaconda3/envs/tf2/lib/python3.7/site-packages/tensorflow_core/python/keras/engine/base_layer.py\u001b[0m in \u001b[0;36m__call__\u001b[0;34m(self, inputs, *args, **kwargs)\u001b[0m\n\u001b[1;32m    816\u001b[0m         \u001b[0;31m# Eager execution on data tensors.\u001b[0m\u001b[0;34m\u001b[0m\u001b[0;34m\u001b[0m\u001b[0;34m\u001b[0m\u001b[0m\n\u001b[1;32m    817\u001b[0m         \u001b[0;32mwith\u001b[0m \u001b[0mbackend\u001b[0m\u001b[0;34m.\u001b[0m\u001b[0mname_scope\u001b[0m\u001b[0;34m(\u001b[0m\u001b[0mself\u001b[0m\u001b[0;34m.\u001b[0m\u001b[0m_name_scope\u001b[0m\u001b[0;34m(\u001b[0m\u001b[0;34m)\u001b[0m\u001b[0;34m)\u001b[0m\u001b[0;34m:\u001b[0m\u001b[0;34m\u001b[0m\u001b[0;34m\u001b[0m\u001b[0m\n\u001b[0;32m--> 818\u001b[0;31m           \u001b[0mself\u001b[0m\u001b[0;34m.\u001b[0m\u001b[0m_maybe_build\u001b[0m\u001b[0;34m(\u001b[0m\u001b[0minputs\u001b[0m\u001b[0;34m)\u001b[0m\u001b[0;34m\u001b[0m\u001b[0;34m\u001b[0m\u001b[0m\n\u001b[0m\u001b[1;32m    819\u001b[0m           \u001b[0mcast_inputs\u001b[0m \u001b[0;34m=\u001b[0m \u001b[0mself\u001b[0m\u001b[0;34m.\u001b[0m\u001b[0m_maybe_cast_inputs\u001b[0m\u001b[0;34m(\u001b[0m\u001b[0minputs\u001b[0m\u001b[0;34m)\u001b[0m\u001b[0;34m\u001b[0m\u001b[0;34m\u001b[0m\u001b[0m\n\u001b[1;32m    820\u001b[0m           with base_layer_utils.autocast_context_manager(\n",
      "\u001b[0;32m~/anaconda3/envs/tf2/lib/python3.7/site-packages/tensorflow_core/python/keras/engine/base_layer.py\u001b[0m in \u001b[0;36m_maybe_build\u001b[0;34m(self, inputs)\u001b[0m\n\u001b[1;32m   2114\u001b[0m         \u001b[0;31m# operations.\u001b[0m\u001b[0;34m\u001b[0m\u001b[0;34m\u001b[0m\u001b[0;34m\u001b[0m\u001b[0m\n\u001b[1;32m   2115\u001b[0m         \u001b[0;32mwith\u001b[0m \u001b[0mtf_utils\u001b[0m\u001b[0;34m.\u001b[0m\u001b[0mmaybe_init_scope\u001b[0m\u001b[0;34m(\u001b[0m\u001b[0mself\u001b[0m\u001b[0;34m)\u001b[0m\u001b[0;34m:\u001b[0m\u001b[0;34m\u001b[0m\u001b[0;34m\u001b[0m\u001b[0m\n\u001b[0;32m-> 2116\u001b[0;31m           \u001b[0mself\u001b[0m\u001b[0;34m.\u001b[0m\u001b[0mbuild\u001b[0m\u001b[0;34m(\u001b[0m\u001b[0minput_shapes\u001b[0m\u001b[0;34m)\u001b[0m\u001b[0;34m\u001b[0m\u001b[0;34m\u001b[0m\u001b[0m\n\u001b[0m\u001b[1;32m   2117\u001b[0m       \u001b[0;31m# We must set self.built since user defined build functions are not\u001b[0m\u001b[0;34m\u001b[0m\u001b[0;34m\u001b[0m\u001b[0;34m\u001b[0m\u001b[0m\n\u001b[1;32m   2118\u001b[0m       \u001b[0;31m# constrained to set self.built.\u001b[0m\u001b[0;34m\u001b[0m\u001b[0;34m\u001b[0m\u001b[0;34m\u001b[0m\u001b[0m\n",
      "\u001b[0;32m~/study/tf/fastrcnn_keras/ROIPoolingLayer.py\u001b[0m in \u001b[0;36mbuild\u001b[0;34m(self, input_shape)\u001b[0m\n\u001b[1;32m     42\u001b[0m             \u001b[0mself\u001b[0m\u001b[0;34m.\u001b[0m\u001b[0mnb_channels\u001b[0m \u001b[0;34m=\u001b[0m \u001b[0minput_shape\u001b[0m\u001b[0;34m[\u001b[0m\u001b[0;36m0\u001b[0m\u001b[0;34m]\u001b[0m\u001b[0;34m[\u001b[0m\u001b[0;36m1\u001b[0m\u001b[0;34m]\u001b[0m\u001b[0;34m\u001b[0m\u001b[0;34m\u001b[0m\u001b[0m\n\u001b[1;32m     43\u001b[0m         \u001b[0;32melif\u001b[0m \u001b[0mself\u001b[0m\u001b[0;34m.\u001b[0m\u001b[0mdim_ordering\u001b[0m \u001b[0;34m==\u001b[0m \u001b[0;34m'channels_last'\u001b[0m\u001b[0;34m:\u001b[0m\u001b[0;34m\u001b[0m\u001b[0;34m\u001b[0m\u001b[0m\n\u001b[0;32m---> 44\u001b[0;31m             \u001b[0mself\u001b[0m\u001b[0;34m.\u001b[0m\u001b[0mnb_channels\u001b[0m \u001b[0;34m=\u001b[0m \u001b[0minput_shape\u001b[0m\u001b[0;34m[\u001b[0m\u001b[0;36m0\u001b[0m\u001b[0;34m]\u001b[0m\u001b[0;34m[\u001b[0m\u001b[0;36m3\u001b[0m\u001b[0;34m]\u001b[0m\u001b[0;34m\u001b[0m\u001b[0;34m\u001b[0m\u001b[0m\n\u001b[0m\u001b[1;32m     45\u001b[0m \u001b[0;34m\u001b[0m\u001b[0m\n\u001b[1;32m     46\u001b[0m     \u001b[0;32mdef\u001b[0m \u001b[0mcompute_output_shape\u001b[0m\u001b[0;34m(\u001b[0m\u001b[0mself\u001b[0m\u001b[0;34m,\u001b[0m \u001b[0minput_shape\u001b[0m\u001b[0;34m)\u001b[0m\u001b[0;34m:\u001b[0m\u001b[0;34m\u001b[0m\u001b[0;34m\u001b[0m\u001b[0m\n",
      "\u001b[0;31mTypeError\u001b[0m: 'NoneType' object is not subscriptable"
     ]
    }
   ],
   "source": [
    "roi_input = layers.Input(shape=(None, 4))"
   ]
  },
  {
   "cell_type": "code",
   "execution_count": 19,
   "metadata": {},
   "outputs": [],
   "source": [
    "import tensorflow as tf\n",
    "import tensorflow.keras as keras\n",
    "from tensorflow.keras import layers\n",
    "from tensorflow.keras.layers import Layer\n",
    "from tensorflow.keras.layers import TimeDistributed, Dense, Flatten, Dropout, AveragePooling2D\n",
    "from ROIPoolingLayer import RoiPoolingConv\n",
    "\n",
    "def classifier(base_layers, input_rois, num_rois, nb_classes=21, trainable=False):\n",
    "    print(base_layers)\n",
    "    print(input_rois)\n",
    "    print(num_rois)\n",
    "    \n",
    "    pooling_regions = 14\n",
    "    # densenet output channels are 1024..\n",
    "    input_shape = (num_rois, 14, 14, 1024)\n",
    "\n",
    "    # from vgg version..\n",
    "    out_roi_pool = RoiPoolingConv(pooling_regions, num_rois)([\n",
    "        base_layers, input_rois])\n",
    "\n",
    "    out_roi_pool = TimeDistributed(AveragePooling2D(\n",
    "        (7, 7)), name='avg_pool')(out_roi_pool)\n",
    "    out = TimeDistributed(Flatten(name='flatten'))(out_roi_pool)\n",
    "    out = TimeDistributed(Dense(4096, activation='relu', name='fc1'))(out)\n",
    "    out = TimeDistributed(Dropout(0.5))(out)\n",
    "    out = TimeDistributed(Dense(4096, activation='relu', name='fc2'))(out)\n",
    "    out = TimeDistributed(Dropout(0.5))(out)\n",
    "\n",
    "    out_class = TimeDistributed(Dense(nb_classes, activation='softmax',\n",
    "                                      kernel_initializer='zero'), name='dense_class_{}'.format(nb_classes))(out)\n",
    "    # note: no regression target for bg class\n",
    "    out_regr = TimeDistributed(Dense(4 * (nb_classes-1), activation='linear',\n",
    "                                     kernel_initializer='zero'), name='dense_regress_{}'.format(nb_classes))(out)\n",
    "\n",
    "    return [out_class, out_regr]\n"
   ]
  },
  {
   "cell_type": "code",
   "execution_count": 21,
   "metadata": {},
   "outputs": [
    {
     "name": "stdout",
     "output_type": "stream",
     "text": [
      "[<tensorflow.python.keras.engine.input_layer.InputLayer object at 0x7f08ccf48990>, <tensorflow.python.keras.layers.convolutional.ZeroPadding2D object at 0x7f08cc31fbd0>, <tensorflow.python.keras.layers.convolutional.Conv2D object at 0x7f08cc31ff10>, <tensorflow.python.keras.layers.normalization.BatchNormalization object at 0x7f08cc2b3e90>, <tensorflow.python.keras.layers.core.Activation object at 0x7f08cc2b9110>, <tensorflow.python.keras.layers.convolutional.ZeroPadding2D object at 0x7f08cc2c0610>, <tensorflow.python.keras.layers.pooling.MaxPooling2D object at 0x7f08cc2c03d0>, <tensorflow.python.keras.layers.convolutional.Conv2D object at 0x7f08cc28e890>, <tensorflow.python.keras.layers.normalization.BatchNormalization object at 0x7f08cc29a1d0>, <tensorflow.python.keras.layers.core.Activation object at 0x7f08cc242950>, <tensorflow.python.keras.layers.convolutional.Conv2D object at 0x7f08cc1ec2d0>, <tensorflow.python.keras.layers.normalization.BatchNormalization object at 0x7f08cc1f3d10>, <tensorflow.python.keras.layers.core.Activation object at 0x7f08cc1f3a50>, <tensorflow.python.keras.layers.convolutional.Conv2D object at 0x7f08cc283fd0>, <tensorflow.python.keras.layers.convolutional.Conv2D object at 0x7f08cc1f9f90>, <tensorflow.python.keras.layers.normalization.BatchNormalization object at 0x7f08cc28eb50>, <tensorflow.python.keras.layers.normalization.BatchNormalization object at 0x7f08cc223e10>, <tensorflow.python.keras.layers.merge.Add object at 0x7f08cc1ab150>, <tensorflow.python.keras.layers.core.Activation object at 0x7f08cc1caf90>, <tensorflow.python.keras.layers.convolutional.Conv2D object at 0x7f08cc1abad0>, <tensorflow.python.keras.layers.normalization.BatchNormalization object at 0x7f08cc1e1ad0>, <tensorflow.python.keras.layers.core.Activation object at 0x7f08cc1e1810>, <tensorflow.python.keras.layers.convolutional.Conv2D object at 0x7f08cc18b950>, <tensorflow.python.keras.layers.normalization.BatchNormalization object at 0x7f08cc196f50>, <tensorflow.python.keras.layers.core.Activation object at 0x7f08cc182090>, <tensorflow.python.keras.layers.convolutional.Conv2D object at 0x7f08cc182490>, <tensorflow.python.keras.layers.normalization.BatchNormalization object at 0x7f08cc146f10>, <tensorflow.python.keras.layers.merge.Add object at 0x7f08cc14e350>, <tensorflow.python.keras.layers.core.Activation object at 0x7f08cc0e58d0>, <tensorflow.python.keras.layers.convolutional.Conv2D object at 0x7f08cc14eb50>, <tensorflow.python.keras.layers.normalization.BatchNormalization object at 0x7f08cc0fcd50>, <tensorflow.python.keras.layers.core.Activation object at 0x7f08cc0fca90>, <tensorflow.python.keras.layers.convolutional.Conv2D object at 0x7f08cc1052d0>, <tensorflow.python.keras.layers.normalization.BatchNormalization object at 0x7f08cc0b1f10>, <tensorflow.python.keras.layers.core.Activation object at 0x7f08cc0b7190>, <tensorflow.python.keras.layers.convolutional.Conv2D object at 0x7f08cc0b7710>, <tensorflow.python.keras.layers.normalization.BatchNormalization object at 0x7f08cc0e4f50>, <tensorflow.python.keras.layers.merge.Add object at 0x7f08cc06d650>, <tensorflow.python.keras.layers.core.Activation object at 0x7f08cc06de10>, <tensorflow.python.keras.layers.convolutional.Conv2D object at 0x7f08cc027f50>, <tensorflow.python.keras.layers.normalization.BatchNormalization object at 0x7f08cc02b5d0>, <tensorflow.python.keras.layers.core.Activation object at 0x7f08df1e9690>, <tensorflow.python.keras.layers.convolutional.Conv2D object at 0x7f08df1e5d10>, <tensorflow.python.keras.layers.normalization.BatchNormalization object at 0x7f08c0379c90>, <tensorflow.python.keras.layers.core.Activation object at 0x7f08c0380710>, <tensorflow.python.keras.layers.convolutional.Conv2D object at 0x7f08cc073050>, <tensorflow.python.keras.layers.convolutional.Conv2D object at 0x7f08c0380fd0>, <tensorflow.python.keras.layers.normalization.BatchNormalization object at 0x7f08cc09ef90>, <tensorflow.python.keras.layers.normalization.BatchNormalization object at 0x7f08c03b2bd0>, <tensorflow.python.keras.layers.merge.Add object at 0x7f08c03b2910>, <tensorflow.python.keras.layers.core.Activation object at 0x7f08c034aad0>, <tensorflow.python.keras.layers.convolutional.Conv2D object at 0x7f08c03b7810>, <tensorflow.python.keras.layers.normalization.BatchNormalization object at 0x7f08c0362f50>, <tensorflow.python.keras.layers.core.Activation object at 0x7f08c036e690>, <tensorflow.python.keras.layers.convolutional.Conv2D object at 0x7f08c0372b50>, <tensorflow.python.keras.layers.normalization.BatchNormalization object at 0x7f08c031dc10>, <tensorflow.python.keras.layers.core.Activation object at 0x7f08c031d950>, <tensorflow.python.keras.layers.convolutional.Conv2D object at 0x7f08c0323490>, <tensorflow.python.keras.layers.normalization.BatchNormalization object at 0x7f08c02d0e90>, <tensorflow.python.keras.layers.merge.Add object at 0x7f08c02d61d0>, <tensorflow.python.keras.layers.core.Activation object at 0x7f08c02ee250>, <tensorflow.python.keras.layers.convolutional.Conv2D object at 0x7f08c02d6b50>, <tensorflow.python.keras.layers.normalization.BatchNormalization object at 0x7f08c028bc10>, <tensorflow.python.keras.layers.core.Activation object at 0x7f08c028b950>, <tensorflow.python.keras.layers.convolutional.Conv2D object at 0x7f08c02904d0>, <tensorflow.python.keras.layers.normalization.BatchNormalization object at 0x7f08c023de10>, <tensorflow.python.keras.layers.core.Activation object at 0x7f08c0243050>, <tensorflow.python.keras.layers.convolutional.Conv2D object at 0x7f08c0243790>, <tensorflow.python.keras.layers.normalization.BatchNormalization object at 0x7f08c026df90>, <tensorflow.python.keras.layers.merge.Add object at 0x7f08c0277810>, <tensorflow.python.keras.layers.core.Activation object at 0x7f08c020d8d0>, <tensorflow.python.keras.layers.convolutional.Conv2D object at 0x7f08c01fdad0>, <tensorflow.python.keras.layers.normalization.BatchNormalization object at 0x7f08c0227e50>, <tensorflow.python.keras.layers.core.Activation object at 0x7f08c0231310>, <tensorflow.python.keras.layers.convolutional.Conv2D object at 0x7f08c0231b10>, <tensorflow.python.keras.layers.normalization.BatchNormalization object at 0x7f08c01e1910>, <tensorflow.python.keras.layers.core.Activation object at 0x7f08c01e1650>, <tensorflow.python.keras.layers.convolutional.Conv2D object at 0x7f08c018c850>, <tensorflow.python.keras.layers.normalization.BatchNormalization object at 0x7f08c0193e50>, <tensorflow.python.keras.layers.merge.Add object at 0x7f08c0193b90>, <tensorflow.python.keras.layers.core.Activation object at 0x7f08c01a6690>, <tensorflow.python.keras.layers.convolutional.Conv2D object at 0x7f08c014d6d0>, <tensorflow.python.keras.layers.normalization.BatchNormalization object at 0x7f08c0152790>, <tensorflow.python.keras.layers.core.Activation object at 0x7f08c00fea10>, <tensorflow.python.keras.layers.convolutional.Conv2D object at 0x7f08c0126850>, <tensorflow.python.keras.layers.normalization.BatchNormalization object at 0x7f08c0130f10>, <tensorflow.python.keras.layers.core.Activation object at 0x7f08c00b87d0>, <tensorflow.python.keras.layers.convolutional.Conv2D object at 0x7f08c019aa90>, <tensorflow.python.keras.layers.convolutional.Conv2D object at 0x7f08c00b8450>, <tensorflow.python.keras.layers.normalization.BatchNormalization object at 0x7f08c014d990>, <tensorflow.python.keras.layers.normalization.BatchNormalization object at 0x7f08c00e2dd0>, <tensorflow.python.keras.layers.merge.Add object at 0x7f08c00ea4d0>, <tensorflow.python.keras.layers.core.Activation object at 0x7f08c00eae90>, <tensorflow.python.keras.layers.convolutional.Conv2D object at 0x7f08c00f0790>, <tensorflow.python.keras.layers.normalization.BatchNormalization object at 0x7f08c009cf50>, <tensorflow.python.keras.layers.core.Activation object at 0x7f08c00a0090>, <tensorflow.python.keras.layers.convolutional.Conv2D object at 0x7f08c00a0950>, <tensorflow.python.keras.layers.normalization.BatchNormalization object at 0x7f08c004ff10>, <tensorflow.python.keras.layers.core.Activation object at 0x7f08c0058610>, <tensorflow.python.keras.layers.convolutional.Conv2D object at 0x7f08c0058a50>, <tensorflow.python.keras.layers.normalization.BatchNormalization object at 0x7f0878026b10>, <tensorflow.python.keras.layers.merge.Add object at 0x7f0878026850>, <tensorflow.python.keras.layers.core.Activation object at 0x7f087803e1d0>, <tensorflow.python.keras.layers.convolutional.Conv2D object at 0x7f087802d1d0>, <tensorflow.python.keras.layers.normalization.BatchNormalization object at 0x7f08687bbf50>, <tensorflow.python.keras.layers.core.Activation object at 0x7f08687c4690>, <tensorflow.python.keras.layers.convolutional.Conv2D object at 0x7f08687c8b50>, <tensorflow.python.keras.layers.normalization.BatchNormalization object at 0x7f08687f3c10>, <tensorflow.python.keras.layers.core.Activation object at 0x7f08687f3950>, <tensorflow.python.keras.layers.convolutional.Conv2D object at 0x7f086877a490>, <tensorflow.python.keras.layers.normalization.BatchNormalization object at 0x7f08687a6e90>, <tensorflow.python.keras.layers.merge.Add object at 0x7f08687af1d0>, <tensorflow.python.keras.layers.core.Activation object at 0x7f0868745e50>, <tensorflow.python.keras.layers.convolutional.Conv2D object at 0x7f08687af910>, <tensorflow.python.keras.layers.normalization.BatchNormalization object at 0x7f0868763c90>, <tensorflow.python.keras.layers.core.Activation object at 0x7f08687639d0>, <tensorflow.python.keras.layers.convolutional.Conv2D object at 0x7f0868768f90>, <tensorflow.python.keras.layers.normalization.BatchNormalization object at 0x7f0868712e50>, <tensorflow.python.keras.layers.core.Activation object at 0x7f086871a2d0>, <tensorflow.python.keras.layers.convolutional.Conv2D object at 0x7f086871a7d0>, <tensorflow.python.keras.layers.normalization.BatchNormalization object at 0x7f08686cd810>, <tensorflow.python.keras.layers.merge.Add object at 0x7f08686cdf90>, <tensorflow.python.keras.layers.core.Activation object at 0x7f08686e5950>, <tensorflow.python.keras.layers.convolutional.Conv2D object at 0x7f08686d4b10>, <tensorflow.python.keras.layers.normalization.BatchNormalization object at 0x7f086867ee90>, <tensorflow.python.keras.layers.core.Activation object at 0x7f0868686390>, <tensorflow.python.keras.layers.convolutional.Conv2D object at 0x7f0868686b50>, <tensorflow.python.keras.layers.normalization.BatchNormalization object at 0x7f08686b7950>, <tensorflow.python.keras.layers.core.Activation object at 0x7f08686b7690>, <tensorflow.python.keras.layers.convolutional.Conv2D object at 0x7f0868662d10>, <tensorflow.python.keras.layers.normalization.BatchNormalization object at 0x7f086866de50>, <tensorflow.python.keras.layers.merge.Add object at 0x7f086866db90>, <tensorflow.python.keras.layers.core.Activation object at 0x7f0868673650>, <tensorflow.python.keras.layers.convolutional.Conv2D object at 0x7f0868678390>, <tensorflow.python.keras.layers.normalization.BatchNormalization object at 0x7f08686259d0>, <tensorflow.python.keras.layers.core.Activation object at 0x7f0868625710>, <tensorflow.python.keras.layers.convolutional.Conv2D object at 0x7f08685cdd90>, <tensorflow.python.keras.layers.normalization.BatchNormalization object at 0x7f08685d5fd0>, <tensorflow.python.keras.layers.core.Activation object at 0x7f08685dd050>, <tensorflow.python.keras.layers.convolutional.Conv2D object at 0x7f08685dd510>, <tensorflow.python.keras.layers.normalization.BatchNormalization object at 0x7f0868588e90>, <tensorflow.python.keras.layers.merge.Add object at 0x7f0868591590>, <tensorflow.python.keras.layers.core.Activation object at 0x7f0868591fd0>, <tensorflow.python.keras.layers.convolutional.Conv2D object at 0x7f0868549090>, <tensorflow.python.keras.layers.normalization.BatchNormalization object at 0x7f086854e390>, <tensorflow.python.keras.layers.core.Activation object at 0x7f08684fa0d0>, <tensorflow.python.keras.layers.convolutional.Conv2D object at 0x7f08684fa610>, <tensorflow.python.keras.layers.normalization.BatchNormalization object at 0x7f0868526f50>, <tensorflow.python.keras.layers.core.Activation object at 0x7f086852e650>, <tensorflow.python.keras.layers.convolutional.Conv2D object at 0x7f0868596850>, <tensorflow.python.keras.layers.convolutional.Conv2D object at 0x7f086852ee10>, <tensorflow.python.keras.layers.normalization.BatchNormalization object at 0x7f0868540d90>, <tensorflow.python.keras.layers.normalization.BatchNormalization object at 0x7f08684e0b90>, <tensorflow.python.keras.layers.merge.Add object at 0x7f08684e08d0>, <tensorflow.python.keras.layers.core.Activation object at 0x7f086847bfd0>, <tensorflow.python.keras.layers.convolutional.Conv2D object at 0x7f08684e5fd0>, <tensorflow.python.keras.layers.normalization.BatchNormalization object at 0x7f0868491ed0>, <tensorflow.python.keras.layers.core.Activation object at 0x7f086849c710>, <tensorflow.python.keras.layers.convolutional.Conv2D object at 0x7f0868443a10>, <tensorflow.python.keras.layers.normalization.BatchNormalization object at 0x7f086844bcd0>, <tensorflow.python.keras.layers.core.Activation object at 0x7f086844ba10>, <tensorflow.python.keras.layers.convolutional.Conv2D object at 0x7f0868452f90>, <tensorflow.python.keras.layers.normalization.BatchNormalization object at 0x7f08683fce10>, <tensorflow.python.keras.layers.merge.Add object at 0x7f0868406050>, <tensorflow.python.keras.layers.core.Activation object at 0x7f086841c390>, <tensorflow.python.keras.layers.convolutional.Conv2D object at 0x7f0868406a10>, <tensorflow.python.keras.layers.normalization.BatchNormalization object at 0x7f08683bad90>, <tensorflow.python.keras.layers.core.Activation object at 0x7f08683baad0>, <tensorflow.python.keras.layers.convolutional.Conv2D object at 0x7f0868409b90>, <tensorflow.python.keras.layers.normalization.BatchNormalization object at 0x7f08683e9f50>, <tensorflow.python.keras.layers.core.Activation object at 0x7f08683f13d0>, <tensorflow.python.keras.layers.convolutional.Conv2D object at 0x7f08683f1c90>, <tensorflow.python.keras.layers.normalization.BatchNormalization object at 0x7f08683a1950>, <tensorflow.python.keras.layers.merge.Add object at 0x7f08683a1690>, <tensorflow.python.keras.layers.core.Activation object at 0x7f086833bc50>]\n"
     ]
    }
   ],
   "source": [
    "print(resnet.layers)\n",
    "# classs = classifier(resnet,roi_input,32,trainable=True)"
   ]
  },
  {
   "cell_type": "code",
   "execution_count": 36,
   "metadata": {},
   "outputs": [],
   "source": [
    "def make_RPN2(anchors_num=9):\n",
    "    feature_map_title = layers.Input(shape=(None, None, 2048))\n",
    "\n",
    "    k = anchors_num\n",
    "    x = layers.Conv2D(512, kernel_size=(3, 3))(feature_map_title)\n",
    "    reg = layers.Conv2D(4*k, kernel_size=(1, 1), activation='sigmoid')(x)\n",
    "    scores = layers.Conv2D(1*k, kernel_size=(1, 1))(x)\n",
    "    \n",
    "    print(reg.tensor)\n",
    "\n",
    "    model = Model(inputs=[feature_map_title], outputs=[scores, reg])\n",
    "\n",
    "    # model.summary()\n",
    "    return model"
   ]
  },
  {
   "cell_type": "code",
   "execution_count": 37,
   "metadata": {},
   "outputs": [
    {
     "ename": "AttributeError",
     "evalue": "'Tensor' object has no attribute 'tensor'",
     "output_type": "error",
     "traceback": [
      "\u001b[0;31m---------------------------------------------------------------------------\u001b[0m",
      "\u001b[0;31mAttributeError\u001b[0m                            Traceback (most recent call last)",
      "\u001b[0;32m<ipython-input-37-129452ef905a>\u001b[0m in \u001b[0;36m<module>\u001b[0;34m\u001b[0m\n\u001b[0;32m----> 1\u001b[0;31m \u001b[0mtest\u001b[0m \u001b[0;34m=\u001b[0m \u001b[0mmake_RPN2\u001b[0m\u001b[0;34m(\u001b[0m\u001b[0;34m)\u001b[0m\u001b[0;34m\u001b[0m\u001b[0;34m\u001b[0m\u001b[0m\n\u001b[0m",
      "\u001b[0;32m<ipython-input-36-fb772c2202d7>\u001b[0m in \u001b[0;36mmake_RPN2\u001b[0;34m(anchors_num)\u001b[0m\n\u001b[1;32m      7\u001b[0m     \u001b[0mscores\u001b[0m \u001b[0;34m=\u001b[0m \u001b[0mlayers\u001b[0m\u001b[0;34m.\u001b[0m\u001b[0mConv2D\u001b[0m\u001b[0;34m(\u001b[0m\u001b[0;36m1\u001b[0m\u001b[0;34m*\u001b[0m\u001b[0mk\u001b[0m\u001b[0;34m,\u001b[0m \u001b[0mkernel_size\u001b[0m\u001b[0;34m=\u001b[0m\u001b[0;34m(\u001b[0m\u001b[0;36m1\u001b[0m\u001b[0;34m,\u001b[0m \u001b[0;36m1\u001b[0m\u001b[0;34m)\u001b[0m\u001b[0;34m)\u001b[0m\u001b[0;34m(\u001b[0m\u001b[0mx\u001b[0m\u001b[0;34m)\u001b[0m\u001b[0;34m\u001b[0m\u001b[0;34m\u001b[0m\u001b[0m\n\u001b[1;32m      8\u001b[0m \u001b[0;34m\u001b[0m\u001b[0m\n\u001b[0;32m----> 9\u001b[0;31m     \u001b[0mprint\u001b[0m\u001b[0;34m(\u001b[0m\u001b[0mreg\u001b[0m\u001b[0;34m.\u001b[0m\u001b[0mtensor\u001b[0m\u001b[0;34m)\u001b[0m\u001b[0;34m\u001b[0m\u001b[0;34m\u001b[0m\u001b[0m\n\u001b[0m\u001b[1;32m     10\u001b[0m \u001b[0;34m\u001b[0m\u001b[0m\n\u001b[1;32m     11\u001b[0m     \u001b[0mmodel\u001b[0m \u001b[0;34m=\u001b[0m \u001b[0mModel\u001b[0m\u001b[0;34m(\u001b[0m\u001b[0minputs\u001b[0m\u001b[0;34m=\u001b[0m\u001b[0;34m[\u001b[0m\u001b[0mfeature_map_title\u001b[0m\u001b[0;34m]\u001b[0m\u001b[0;34m,\u001b[0m \u001b[0moutputs\u001b[0m\u001b[0;34m=\u001b[0m\u001b[0;34m[\u001b[0m\u001b[0mscores\u001b[0m\u001b[0;34m,\u001b[0m \u001b[0mreg\u001b[0m\u001b[0;34m]\u001b[0m\u001b[0;34m)\u001b[0m\u001b[0;34m\u001b[0m\u001b[0;34m\u001b[0m\u001b[0m\n",
      "\u001b[0;31mAttributeError\u001b[0m: 'Tensor' object has no attribute 'tensor'"
     ]
    }
   ],
   "source": [
    "test = make_RPN2()"
   ]
  },
  {
   "cell_type": "code",
   "execution_count": 39,
   "metadata": {},
   "outputs": [
    {
     "data": {
      "text/plain": [
       "[<tf.Tensor 'conv2d_8/Identity:0' shape=(None, None, None, 9) dtype=float32>,\n",
       " <tf.Tensor 'conv2d_7/Identity:0' shape=(None, None, None, 36) dtype=float32>]"
      ]
     },
     "execution_count": 39,
     "metadata": {},
     "output_type": "execute_result"
    }
   ],
   "source": [
    "test.outputs"
   ]
  },
  {
   "cell_type": "code",
   "execution_count": 40,
   "metadata": {},
   "outputs": [
    {
     "data": {
      "text/plain": [
       "[<tf.Tensor 'input_5:0' shape=(None, None, None, 2048) dtype=float32>]"
      ]
     },
     "execution_count": 40,
     "metadata": {},
     "output_type": "execute_result"
    }
   ],
   "source": [
    "test.inputs"
   ]
  },
  {
   "cell_type": "code",
   "execution_count": 41,
   "metadata": {},
   "outputs": [
    {
     "name": "stdout",
     "output_type": "stream",
     "text": [
      "<tensorflow.python.keras.engine.training.Model object at 0x7f08cc283390>\n"
     ]
    }
   ],
   "source": [
    "print(resnet)"
   ]
  },
  {
   "cell_type": "code",
   "execution_count": 42,
   "metadata": {},
   "outputs": [
    {
     "data": {
      "text/plain": [
       "[<tf.Tensor 'conv5_block3_out/Identity:0' shape=(None, None, None, 2048) dtype=float32>]"
      ]
     },
     "execution_count": 42,
     "metadata": {},
     "output_type": "execute_result"
    }
   ],
   "source": [
    "resnet.outputs[0]"
   ]
  },
  {
   "cell_type": "code",
   "execution_count": 44,
   "metadata": {},
   "outputs": [
    {
     "data": {
      "text/plain": [
       "[<tf.Tensor 'input_2:0' shape=(None, None, None, 3) dtype=float32>]"
      ]
     },
     "execution_count": 44,
     "metadata": {},
     "output_type": "execute_result"
    }
   ],
   "source": [
    "resnet.inputs"
   ]
  },
  {
   "cell_type": "code",
   "execution_count": 45,
   "metadata": {},
   "outputs": [
    {
     "data": {
      "text/plain": [
       "[<tensorflow.python.keras.engine.input_layer.InputLayer at 0x7f08ccf48990>,\n",
       " <tensorflow.python.keras.layers.convolutional.ZeroPadding2D at 0x7f08cc31fbd0>,\n",
       " <tensorflow.python.keras.layers.convolutional.Conv2D at 0x7f08cc31ff10>,\n",
       " <tensorflow.python.keras.layers.normalization.BatchNormalization at 0x7f08cc2b3e90>,\n",
       " <tensorflow.python.keras.layers.core.Activation at 0x7f08cc2b9110>,\n",
       " <tensorflow.python.keras.layers.convolutional.ZeroPadding2D at 0x7f08cc2c0610>,\n",
       " <tensorflow.python.keras.layers.pooling.MaxPooling2D at 0x7f08cc2c03d0>,\n",
       " <tensorflow.python.keras.layers.convolutional.Conv2D at 0x7f08cc28e890>,\n",
       " <tensorflow.python.keras.layers.normalization.BatchNormalization at 0x7f08cc29a1d0>,\n",
       " <tensorflow.python.keras.layers.core.Activation at 0x7f08cc242950>,\n",
       " <tensorflow.python.keras.layers.convolutional.Conv2D at 0x7f08cc1ec2d0>,\n",
       " <tensorflow.python.keras.layers.normalization.BatchNormalization at 0x7f08cc1f3d10>,\n",
       " <tensorflow.python.keras.layers.core.Activation at 0x7f08cc1f3a50>,\n",
       " <tensorflow.python.keras.layers.convolutional.Conv2D at 0x7f08cc283fd0>,\n",
       " <tensorflow.python.keras.layers.convolutional.Conv2D at 0x7f08cc1f9f90>,\n",
       " <tensorflow.python.keras.layers.normalization.BatchNormalization at 0x7f08cc28eb50>,\n",
       " <tensorflow.python.keras.layers.normalization.BatchNormalization at 0x7f08cc223e10>,\n",
       " <tensorflow.python.keras.layers.merge.Add at 0x7f08cc1ab150>,\n",
       " <tensorflow.python.keras.layers.core.Activation at 0x7f08cc1caf90>,\n",
       " <tensorflow.python.keras.layers.convolutional.Conv2D at 0x7f08cc1abad0>,\n",
       " <tensorflow.python.keras.layers.normalization.BatchNormalization at 0x7f08cc1e1ad0>,\n",
       " <tensorflow.python.keras.layers.core.Activation at 0x7f08cc1e1810>,\n",
       " <tensorflow.python.keras.layers.convolutional.Conv2D at 0x7f08cc18b950>,\n",
       " <tensorflow.python.keras.layers.normalization.BatchNormalization at 0x7f08cc196f50>,\n",
       " <tensorflow.python.keras.layers.core.Activation at 0x7f08cc182090>,\n",
       " <tensorflow.python.keras.layers.convolutional.Conv2D at 0x7f08cc182490>,\n",
       " <tensorflow.python.keras.layers.normalization.BatchNormalization at 0x7f08cc146f10>,\n",
       " <tensorflow.python.keras.layers.merge.Add at 0x7f08cc14e350>,\n",
       " <tensorflow.python.keras.layers.core.Activation at 0x7f08cc0e58d0>,\n",
       " <tensorflow.python.keras.layers.convolutional.Conv2D at 0x7f08cc14eb50>,\n",
       " <tensorflow.python.keras.layers.normalization.BatchNormalization at 0x7f08cc0fcd50>,\n",
       " <tensorflow.python.keras.layers.core.Activation at 0x7f08cc0fca90>,\n",
       " <tensorflow.python.keras.layers.convolutional.Conv2D at 0x7f08cc1052d0>,\n",
       " <tensorflow.python.keras.layers.normalization.BatchNormalization at 0x7f08cc0b1f10>,\n",
       " <tensorflow.python.keras.layers.core.Activation at 0x7f08cc0b7190>,\n",
       " <tensorflow.python.keras.layers.convolutional.Conv2D at 0x7f08cc0b7710>,\n",
       " <tensorflow.python.keras.layers.normalization.BatchNormalization at 0x7f08cc0e4f50>,\n",
       " <tensorflow.python.keras.layers.merge.Add at 0x7f08cc06d650>,\n",
       " <tensorflow.python.keras.layers.core.Activation at 0x7f08cc06de10>,\n",
       " <tensorflow.python.keras.layers.convolutional.Conv2D at 0x7f08cc027f50>,\n",
       " <tensorflow.python.keras.layers.normalization.BatchNormalization at 0x7f08cc02b5d0>,\n",
       " <tensorflow.python.keras.layers.core.Activation at 0x7f08df1e9690>,\n",
       " <tensorflow.python.keras.layers.convolutional.Conv2D at 0x7f08df1e5d10>,\n",
       " <tensorflow.python.keras.layers.normalization.BatchNormalization at 0x7f08c0379c90>,\n",
       " <tensorflow.python.keras.layers.core.Activation at 0x7f08c0380710>,\n",
       " <tensorflow.python.keras.layers.convolutional.Conv2D at 0x7f08cc073050>,\n",
       " <tensorflow.python.keras.layers.convolutional.Conv2D at 0x7f08c0380fd0>,\n",
       " <tensorflow.python.keras.layers.normalization.BatchNormalization at 0x7f08cc09ef90>,\n",
       " <tensorflow.python.keras.layers.normalization.BatchNormalization at 0x7f08c03b2bd0>,\n",
       " <tensorflow.python.keras.layers.merge.Add at 0x7f08c03b2910>,\n",
       " <tensorflow.python.keras.layers.core.Activation at 0x7f08c034aad0>,\n",
       " <tensorflow.python.keras.layers.convolutional.Conv2D at 0x7f08c03b7810>,\n",
       " <tensorflow.python.keras.layers.normalization.BatchNormalization at 0x7f08c0362f50>,\n",
       " <tensorflow.python.keras.layers.core.Activation at 0x7f08c036e690>,\n",
       " <tensorflow.python.keras.layers.convolutional.Conv2D at 0x7f08c0372b50>,\n",
       " <tensorflow.python.keras.layers.normalization.BatchNormalization at 0x7f08c031dc10>,\n",
       " <tensorflow.python.keras.layers.core.Activation at 0x7f08c031d950>,\n",
       " <tensorflow.python.keras.layers.convolutional.Conv2D at 0x7f08c0323490>,\n",
       " <tensorflow.python.keras.layers.normalization.BatchNormalization at 0x7f08c02d0e90>,\n",
       " <tensorflow.python.keras.layers.merge.Add at 0x7f08c02d61d0>,\n",
       " <tensorflow.python.keras.layers.core.Activation at 0x7f08c02ee250>,\n",
       " <tensorflow.python.keras.layers.convolutional.Conv2D at 0x7f08c02d6b50>,\n",
       " <tensorflow.python.keras.layers.normalization.BatchNormalization at 0x7f08c028bc10>,\n",
       " <tensorflow.python.keras.layers.core.Activation at 0x7f08c028b950>,\n",
       " <tensorflow.python.keras.layers.convolutional.Conv2D at 0x7f08c02904d0>,\n",
       " <tensorflow.python.keras.layers.normalization.BatchNormalization at 0x7f08c023de10>,\n",
       " <tensorflow.python.keras.layers.core.Activation at 0x7f08c0243050>,\n",
       " <tensorflow.python.keras.layers.convolutional.Conv2D at 0x7f08c0243790>,\n",
       " <tensorflow.python.keras.layers.normalization.BatchNormalization at 0x7f08c026df90>,\n",
       " <tensorflow.python.keras.layers.merge.Add at 0x7f08c0277810>,\n",
       " <tensorflow.python.keras.layers.core.Activation at 0x7f08c020d8d0>,\n",
       " <tensorflow.python.keras.layers.convolutional.Conv2D at 0x7f08c01fdad0>,\n",
       " <tensorflow.python.keras.layers.normalization.BatchNormalization at 0x7f08c0227e50>,\n",
       " <tensorflow.python.keras.layers.core.Activation at 0x7f08c0231310>,\n",
       " <tensorflow.python.keras.layers.convolutional.Conv2D at 0x7f08c0231b10>,\n",
       " <tensorflow.python.keras.layers.normalization.BatchNormalization at 0x7f08c01e1910>,\n",
       " <tensorflow.python.keras.layers.core.Activation at 0x7f08c01e1650>,\n",
       " <tensorflow.python.keras.layers.convolutional.Conv2D at 0x7f08c018c850>,\n",
       " <tensorflow.python.keras.layers.normalization.BatchNormalization at 0x7f08c0193e50>,\n",
       " <tensorflow.python.keras.layers.merge.Add at 0x7f08c0193b90>,\n",
       " <tensorflow.python.keras.layers.core.Activation at 0x7f08c01a6690>,\n",
       " <tensorflow.python.keras.layers.convolutional.Conv2D at 0x7f08c014d6d0>,\n",
       " <tensorflow.python.keras.layers.normalization.BatchNormalization at 0x7f08c0152790>,\n",
       " <tensorflow.python.keras.layers.core.Activation at 0x7f08c00fea10>,\n",
       " <tensorflow.python.keras.layers.convolutional.Conv2D at 0x7f08c0126850>,\n",
       " <tensorflow.python.keras.layers.normalization.BatchNormalization at 0x7f08c0130f10>,\n",
       " <tensorflow.python.keras.layers.core.Activation at 0x7f08c00b87d0>,\n",
       " <tensorflow.python.keras.layers.convolutional.Conv2D at 0x7f08c019aa90>,\n",
       " <tensorflow.python.keras.layers.convolutional.Conv2D at 0x7f08c00b8450>,\n",
       " <tensorflow.python.keras.layers.normalization.BatchNormalization at 0x7f08c014d990>,\n",
       " <tensorflow.python.keras.layers.normalization.BatchNormalization at 0x7f08c00e2dd0>,\n",
       " <tensorflow.python.keras.layers.merge.Add at 0x7f08c00ea4d0>,\n",
       " <tensorflow.python.keras.layers.core.Activation at 0x7f08c00eae90>,\n",
       " <tensorflow.python.keras.layers.convolutional.Conv2D at 0x7f08c00f0790>,\n",
       " <tensorflow.python.keras.layers.normalization.BatchNormalization at 0x7f08c009cf50>,\n",
       " <tensorflow.python.keras.layers.core.Activation at 0x7f08c00a0090>,\n",
       " <tensorflow.python.keras.layers.convolutional.Conv2D at 0x7f08c00a0950>,\n",
       " <tensorflow.python.keras.layers.normalization.BatchNormalization at 0x7f08c004ff10>,\n",
       " <tensorflow.python.keras.layers.core.Activation at 0x7f08c0058610>,\n",
       " <tensorflow.python.keras.layers.convolutional.Conv2D at 0x7f08c0058a50>,\n",
       " <tensorflow.python.keras.layers.normalization.BatchNormalization at 0x7f0878026b10>,\n",
       " <tensorflow.python.keras.layers.merge.Add at 0x7f0878026850>,\n",
       " <tensorflow.python.keras.layers.core.Activation at 0x7f087803e1d0>,\n",
       " <tensorflow.python.keras.layers.convolutional.Conv2D at 0x7f087802d1d0>,\n",
       " <tensorflow.python.keras.layers.normalization.BatchNormalization at 0x7f08687bbf50>,\n",
       " <tensorflow.python.keras.layers.core.Activation at 0x7f08687c4690>,\n",
       " <tensorflow.python.keras.layers.convolutional.Conv2D at 0x7f08687c8b50>,\n",
       " <tensorflow.python.keras.layers.normalization.BatchNormalization at 0x7f08687f3c10>,\n",
       " <tensorflow.python.keras.layers.core.Activation at 0x7f08687f3950>,\n",
       " <tensorflow.python.keras.layers.convolutional.Conv2D at 0x7f086877a490>,\n",
       " <tensorflow.python.keras.layers.normalization.BatchNormalization at 0x7f08687a6e90>,\n",
       " <tensorflow.python.keras.layers.merge.Add at 0x7f08687af1d0>,\n",
       " <tensorflow.python.keras.layers.core.Activation at 0x7f0868745e50>,\n",
       " <tensorflow.python.keras.layers.convolutional.Conv2D at 0x7f08687af910>,\n",
       " <tensorflow.python.keras.layers.normalization.BatchNormalization at 0x7f0868763c90>,\n",
       " <tensorflow.python.keras.layers.core.Activation at 0x7f08687639d0>,\n",
       " <tensorflow.python.keras.layers.convolutional.Conv2D at 0x7f0868768f90>,\n",
       " <tensorflow.python.keras.layers.normalization.BatchNormalization at 0x7f0868712e50>,\n",
       " <tensorflow.python.keras.layers.core.Activation at 0x7f086871a2d0>,\n",
       " <tensorflow.python.keras.layers.convolutional.Conv2D at 0x7f086871a7d0>,\n",
       " <tensorflow.python.keras.layers.normalization.BatchNormalization at 0x7f08686cd810>,\n",
       " <tensorflow.python.keras.layers.merge.Add at 0x7f08686cdf90>,\n",
       " <tensorflow.python.keras.layers.core.Activation at 0x7f08686e5950>,\n",
       " <tensorflow.python.keras.layers.convolutional.Conv2D at 0x7f08686d4b10>,\n",
       " <tensorflow.python.keras.layers.normalization.BatchNormalization at 0x7f086867ee90>,\n",
       " <tensorflow.python.keras.layers.core.Activation at 0x7f0868686390>,\n",
       " <tensorflow.python.keras.layers.convolutional.Conv2D at 0x7f0868686b50>,\n",
       " <tensorflow.python.keras.layers.normalization.BatchNormalization at 0x7f08686b7950>,\n",
       " <tensorflow.python.keras.layers.core.Activation at 0x7f08686b7690>,\n",
       " <tensorflow.python.keras.layers.convolutional.Conv2D at 0x7f0868662d10>,\n",
       " <tensorflow.python.keras.layers.normalization.BatchNormalization at 0x7f086866de50>,\n",
       " <tensorflow.python.keras.layers.merge.Add at 0x7f086866db90>,\n",
       " <tensorflow.python.keras.layers.core.Activation at 0x7f0868673650>,\n",
       " <tensorflow.python.keras.layers.convolutional.Conv2D at 0x7f0868678390>,\n",
       " <tensorflow.python.keras.layers.normalization.BatchNormalization at 0x7f08686259d0>,\n",
       " <tensorflow.python.keras.layers.core.Activation at 0x7f0868625710>,\n",
       " <tensorflow.python.keras.layers.convolutional.Conv2D at 0x7f08685cdd90>,\n",
       " <tensorflow.python.keras.layers.normalization.BatchNormalization at 0x7f08685d5fd0>,\n",
       " <tensorflow.python.keras.layers.core.Activation at 0x7f08685dd050>,\n",
       " <tensorflow.python.keras.layers.convolutional.Conv2D at 0x7f08685dd510>,\n",
       " <tensorflow.python.keras.layers.normalization.BatchNormalization at 0x7f0868588e90>,\n",
       " <tensorflow.python.keras.layers.merge.Add at 0x7f0868591590>,\n",
       " <tensorflow.python.keras.layers.core.Activation at 0x7f0868591fd0>,\n",
       " <tensorflow.python.keras.layers.convolutional.Conv2D at 0x7f0868549090>,\n",
       " <tensorflow.python.keras.layers.normalization.BatchNormalization at 0x7f086854e390>,\n",
       " <tensorflow.python.keras.layers.core.Activation at 0x7f08684fa0d0>,\n",
       " <tensorflow.python.keras.layers.convolutional.Conv2D at 0x7f08684fa610>,\n",
       " <tensorflow.python.keras.layers.normalization.BatchNormalization at 0x7f0868526f50>,\n",
       " <tensorflow.python.keras.layers.core.Activation at 0x7f086852e650>,\n",
       " <tensorflow.python.keras.layers.convolutional.Conv2D at 0x7f0868596850>,\n",
       " <tensorflow.python.keras.layers.convolutional.Conv2D at 0x7f086852ee10>,\n",
       " <tensorflow.python.keras.layers.normalization.BatchNormalization at 0x7f0868540d90>,\n",
       " <tensorflow.python.keras.layers.normalization.BatchNormalization at 0x7f08684e0b90>,\n",
       " <tensorflow.python.keras.layers.merge.Add at 0x7f08684e08d0>,\n",
       " <tensorflow.python.keras.layers.core.Activation at 0x7f086847bfd0>,\n",
       " <tensorflow.python.keras.layers.convolutional.Conv2D at 0x7f08684e5fd0>,\n",
       " <tensorflow.python.keras.layers.normalization.BatchNormalization at 0x7f0868491ed0>,\n",
       " <tensorflow.python.keras.layers.core.Activation at 0x7f086849c710>,\n",
       " <tensorflow.python.keras.layers.convolutional.Conv2D at 0x7f0868443a10>,\n",
       " <tensorflow.python.keras.layers.normalization.BatchNormalization at 0x7f086844bcd0>,\n",
       " <tensorflow.python.keras.layers.core.Activation at 0x7f086844ba10>,\n",
       " <tensorflow.python.keras.layers.convolutional.Conv2D at 0x7f0868452f90>,\n",
       " <tensorflow.python.keras.layers.normalization.BatchNormalization at 0x7f08683fce10>,\n",
       " <tensorflow.python.keras.layers.merge.Add at 0x7f0868406050>,\n",
       " <tensorflow.python.keras.layers.core.Activation at 0x7f086841c390>,\n",
       " <tensorflow.python.keras.layers.convolutional.Conv2D at 0x7f0868406a10>,\n",
       " <tensorflow.python.keras.layers.normalization.BatchNormalization at 0x7f08683bad90>,\n",
       " <tensorflow.python.keras.layers.core.Activation at 0x7f08683baad0>,\n",
       " <tensorflow.python.keras.layers.convolutional.Conv2D at 0x7f0868409b90>,\n",
       " <tensorflow.python.keras.layers.normalization.BatchNormalization at 0x7f08683e9f50>,\n",
       " <tensorflow.python.keras.layers.core.Activation at 0x7f08683f13d0>,\n",
       " <tensorflow.python.keras.layers.convolutional.Conv2D at 0x7f08683f1c90>,\n",
       " <tensorflow.python.keras.layers.normalization.BatchNormalization at 0x7f08683a1950>,\n",
       " <tensorflow.python.keras.layers.merge.Add at 0x7f08683a1690>,\n",
       " <tensorflow.python.keras.layers.core.Activation at 0x7f086833bc50>]"
      ]
     },
     "execution_count": 45,
     "metadata": {},
     "output_type": "execute_result"
    }
   ],
   "source": [
    "resnet.layers"
   ]
  },
  {
   "cell_type": "code",
   "execution_count": null,
   "metadata": {},
   "outputs": [],
   "source": []
  }
 ],
 "metadata": {
  "kernelspec": {
   "display_name": "Python 3.7.4 64-bit ('tf2': conda)",
   "language": "python",
   "name": "python37464bittf2condacbc18c13579546129370f94c57f0670d"
  },
  "language_info": {
   "codemirror_mode": {
    "name": "ipython",
    "version": 3
   },
   "file_extension": ".py",
   "mimetype": "text/x-python",
   "name": "python",
   "nbconvert_exporter": "python",
   "pygments_lexer": "ipython3",
   "version": "3.7.4"
  }
 },
 "nbformat": 4,
 "nbformat_minor": 2
}
