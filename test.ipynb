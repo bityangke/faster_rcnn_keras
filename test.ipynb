{
 "cells": [
  {
   "cell_type": "code",
   "execution_count": 10,
   "metadata": {},
   "outputs": [],
   "source": [
    "import tensorflow as tf\n",
    "from tensorflow import keras\n",
    "from tensorflow.keras import layers\n",
    "from tensorflow.keras.models import Model\n",
    "import cv2\n",
    "import numpy as np\n",
    "from ROIPoolingLayer import RoiPoolingConv\n",
    "\n",
    "\n",
    "def make_RPN(anchors_num=9):\n",
    "    feature_map_title = layers.Input(shape=(None, None, 2048))\n",
    "\n",
    "    k = anchors_num\n",
    "    x = layers.Conv2D(512, kernel_size=(3, 3))(feature_map_title)\n",
    "    reg = layers.Conv2D(4*k, kernel_size=(1, 1), activation='sigmoid')(x)\n",
    "    scores = layers.Conv2D(1*k, kernel_size=(1, 1))(x)\n",
    "\n",
    "    model = Model(inputs=[feature_map_title], outputs=[scores, reg])\n",
    "\n",
    "    # model.summary()\n",
    "    return model\n"
   ]
  },
  {
   "cell_type": "code",
   "execution_count": 11,
   "metadata": {},
   "outputs": [],
   "source": [
    "img = cv2.imread('test.jpg')\n",
    "h, w, _ = img.shape"
   ]
  },
  {
   "cell_type": "code",
   "execution_count": 12,
   "metadata": {},
   "outputs": [
    {
     "name": "stdout",
     "output_type": "stream",
     "text": [
      "703 1024\n"
     ]
    }
   ],
   "source": [
    "print(h,w)"
   ]
  },
  {
   "cell_type": "code",
   "execution_count": 13,
   "metadata": {},
   "outputs": [],
   "source": [
    "img = cv2.resize(img, (224, 224))\n",
    "img = np.expand_dims(img, 0)"
   ]
  },
  {
   "cell_type": "code",
   "execution_count": 14,
   "metadata": {},
   "outputs": [
    {
     "name": "stdout",
     "output_type": "stream",
     "text": [
      "(1, 224, 224, 3)\n"
     ]
    }
   ],
   "source": [
    "print(img.shape)"
   ]
  },
  {
   "cell_type": "code",
   "execution_count": 15,
   "metadata": {},
   "outputs": [
    {
     "name": "stdout",
     "output_type": "stream",
     "text": [
      "(1, 7, 7, 2048)\n"
     ]
    }
   ],
   "source": [
    "model_rpn = make_RPN()\n",
    "resnet = tf.keras.applications.ResNet50(include_top=False)\n",
    "feature_map = resnet.predict(img)\n",
    "print(feature_map.shape)"
   ]
  },
  {
   "cell_type": "code",
   "execution_count": 24,
   "metadata": {},
   "outputs": [],
   "source": [
    "score, reg = model_rpn(feature_map)"
   ]
  },
  {
   "cell_type": "code",
   "execution_count": 27,
   "metadata": {},
   "outputs": [
    {
     "name": "stdout",
     "output_type": "stream",
     "text": [
      "tf.Tensor(\n",
      "[[[-0.06406942 -2.1031852   0.45910192 -0.94461226  3.1218946\n",
      "   -2.7447143   0.8626989   1.721624    0.5619105 ]\n",
      "  [ 1.7420794  -2.1097424   1.6726569  -0.7648181   3.007729\n",
      "   -1.5868253   1.4597086   3.7493942  -0.54580325]\n",
      "  [ 3.6444354   0.7260789   3.3946347  -2.4923182   1.7149452\n",
      "   -0.71134406  2.056685    0.5542353  -0.6441932 ]\n",
      "  [ 1.8039024   0.19906388  4.391401   -3.9044478   2.711058\n",
      "    0.3813963   3.3129683   1.1675657  -2.4257216 ]\n",
      "  [ 0.16504264 -3.022267    3.2196894  -4.7355976   1.281827\n",
      "    2.325171    3.5333188   2.9871323  -1.7045819 ]]\n",
      "\n",
      " [[ 2.413618   -0.8164892   0.71371806 -0.63968885  6.7743025\n",
      "   -2.7436254   2.9450552  -0.83371854  4.70902   ]\n",
      "  [ 4.2851057  -3.1441255   4.2129116   0.3038385   9.412356\n",
      "   -1.5312568   4.7264385  -1.6436895   5.917124  ]\n",
      "  [ 1.6860244  -2.6927948   3.1592286  -1.7389605   7.365234\n",
      "   -2.7763324   4.320305   -1.7483065   3.581393  ]\n",
      "  [ 0.34968936 -2.702446    2.9565916   0.68698645  2.2307582\n",
      "   -1.664657    1.6802993   2.6978638   0.8191304 ]\n",
      "  [ 2.934578   -3.609054    4.427142    2.7293973   5.1641507\n",
      "   -1.1594332   1.3247571   1.2639599   1.2197189 ]]\n",
      "\n",
      " [[ 5.090567    1.8831823   5.6217213  -2.7955503   2.737416\n",
      "   -7.925651    4.271557   -1.6309266   3.9025197 ]\n",
      "  [ 2.7282972  -1.6548766   6.3204045   1.7518907   2.0322058\n",
      "   -4.6927977   3.314608   -4.180057    7.959211  ]\n",
      "  [ 5.2646737  -4.4766393   3.5987036   0.6151645   1.717106\n",
      "   -6.219406    3.4699736  -2.880472    3.4722307 ]\n",
      "  [ 4.2617397  -5.32801     3.5173805   5.6828737   0.3911655\n",
      "   -0.61219084  3.32842    -5.0874796   0.2966497 ]\n",
      "  [ 1.58586    -6.2097588   1.9324697   4.335766    1.6811728\n",
      "   -0.721292   -5.470862   -5.287882    1.6650479 ]]\n",
      "\n",
      " [[ 2.202558    0.89227915  6.3460846   2.5527685   0.4047333\n",
      "   -3.3950205   5.008637    1.9052572   2.2377868 ]\n",
      "  [ 1.6735785   0.7734049   8.82929     1.4111869  -2.501111\n",
      "   -2.4171503   2.3279843   2.355628    1.2674817 ]\n",
      "  [ 1.8193763  -2.9765444   4.575372    3.4207306  -1.2182274\n",
      "   -5.3912425   3.1846771   3.7512841  -0.8127718 ]\n",
      "  [ 5.631021   -1.2284149   6.258978    1.9197361  -1.4855282\n",
      "   -7.7402573  -0.20759821 -1.4410152  -2.311367  ]\n",
      "  [ 5.521864   -4.246776    3.2057393  -2.1033168  -3.0719118\n",
      "   -6.1855726  -4.554473    1.0967578  -2.306434  ]]\n",
      "\n",
      " [[ 1.57758     0.6085577   2.940932    0.89954346 -0.6262419\n",
      "    2.1356742   1.6585239   1.6293937   6.0801144 ]\n",
      "  [-4.0424347   2.22656     7.345847    6.563867   -1.708266\n",
      "   -0.23731184  1.4412341   5.880405    2.0842128 ]\n",
      "  [ 1.8753357  -0.58045065 -0.6810851   5.134509   -2.7449346\n",
      "   -2.1080356   5.1776376   3.1236176   4.832649  ]\n",
      "  [ 3.921543    0.91836137 -2.3162162   6.950664    1.4427476\n",
      "   -2.4584792   0.4391334  -2.2643554   0.6814217 ]\n",
      "  [ 2.4060597  -0.9259131   2.1500595   1.1281345   3.999019\n",
      "   -2.963123   -2.5247512  -1.7143297  -8.207615  ]]], shape=(5, 5, 9), dtype=float32)\n"
     ]
    }
   ],
   "source": [
    "print(score[0])"
   ]
  },
  {
   "cell_type": "code",
   "execution_count": 21,
   "metadata": {},
   "outputs": [
    {
     "name": "stdout",
     "output_type": "stream",
     "text": [
      "(1, 5, 5, 9)\n"
     ]
    }
   ],
   "source": [
    "print(proposals[0].shape)"
   ]
  },
  {
   "cell_type": "code",
   "execution_count": 23,
   "metadata": {},
   "outputs": [
    {
     "name": "stdout",
     "output_type": "stream",
     "text": [
      "2\n"
     ]
    }
   ],
   "source": [
    "print(len(proposals))"
   ]
  },
  {
   "cell_type": "code",
   "execution_count": null,
   "metadata": {},
   "outputs": [],
   "source": []
  }
 ],
 "metadata": {
  "kernelspec": {
   "display_name": "Python 3.7.4 64-bit ('tf2': conda)",
   "language": "python",
   "name": "python37464bittf2condacbc18c13579546129370f94c57f0670d"
  },
  "language_info": {
   "codemirror_mode": {
    "name": "ipython",
    "version": 3
   },
   "file_extension": ".py",
   "mimetype": "text/x-python",
   "name": "python",
   "nbconvert_exporter": "python",
   "pygments_lexer": "ipython3",
   "version": "3.7.4"
  }
 },
 "nbformat": 4,
 "nbformat_minor": 2
}
